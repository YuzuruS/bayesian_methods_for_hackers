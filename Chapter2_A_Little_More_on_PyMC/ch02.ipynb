{
 "cells": [
  {
   "cell_type": "markdown",
   "metadata": {},
   "source": [
    "# 2. PyMCについてもう少し深く触れる"
   ]
  },
  {
   "cell_type": "markdown",
   "metadata": {},
   "source": [
    "## 2.1 はじめに\n",
    "\n",
    "---\n",
    "PyMCに使用する変数は2パターンに分けられる\n",
    "\n",
    "- 親変数(parent variable)\n",
    "- 子変数 (child variable)\n",
    "\n",
    "親変数は他の変数に影響を及ぼす変数（引数として与えられたり、計算式に入れられたりする）で、子変数は親変数から影響をうける変数"
   ]
  },
  {
   "cell_type": "code",
   "execution_count": 185,
   "metadata": {
    "collapsed": true
   },
   "outputs": [],
   "source": [
    "%matplotlib inline"
   ]
  },
  {
   "cell_type": "code",
   "execution_count": 186,
   "metadata": {
    "collapsed": true
   },
   "outputs": [],
   "source": [
    "import pymc as pm"
   ]
  },
  {
   "cell_type": "code",
   "execution_count": 187,
   "metadata": {
    "collapsed": true
   },
   "outputs": [],
   "source": [
    "import numpy as np"
   ]
  },
  {
   "cell_type": "code",
   "execution_count": 188,
   "metadata": {
    "collapsed": true
   },
   "outputs": [],
   "source": [
    "# この場合lambda_が親変数\n",
    "lambda_ = pm.Exponential('poisson_param', 1)\n",
    "\n",
    "# 引数にlambda_が与えられて、lambda_の値によってdata_generatorの値が変化する。\n",
    "# lambda_は親変数\n",
    "# data_generatorは子変数\n",
    "data_generator = pm.Poisson('data_generator', lambda_)\n",
    "\n",
    "# 　data_plus_oneはdata_generatorに+1された値。data_generatorによってdata_plus_oneの値が変化する\n",
    "# data_generatorは親変数\n",
    "# data_plus_oneは子変数\n",
    "data_plus_one = data_generator + 1"
   ]
  },
  {
   "cell_type": "markdown",
   "metadata": {},
   "source": [
    "各pymc変数の親変数、子変数はparents属性, children属性でアクセスできる"
   ]
  },
  {
   "cell_type": "code",
   "execution_count": 189,
   "metadata": {},
   "outputs": [
    {
     "data": {
      "text/plain": [
       "{<pymc.distributions.new_dist_class.<locals>.new_class 'data_generator' at 0x11c4c88d0>}"
      ]
     },
     "execution_count": 189,
     "metadata": {},
     "output_type": "execute_result"
    }
   ],
   "source": [
    "lambda_.children"
   ]
  },
  {
   "cell_type": "code",
   "execution_count": 190,
   "metadata": {},
   "outputs": [
    {
     "data": {
      "text/plain": [
       "{<pymc.PyMCObjects.Deterministic '(data_generator_add_1)' at 0x11af21278>}"
      ]
     },
     "execution_count": 190,
     "metadata": {},
     "output_type": "execute_result"
    }
   ],
   "source": [
    "data_generator.children"
   ]
  },
  {
   "cell_type": "code",
   "execution_count": 191,
   "metadata": {},
   "outputs": [
    {
     "data": {
      "text/plain": [
       "{'mu': <pymc.distributions.new_dist_class.<locals>.new_class 'poisson_param' at 0x11af102b0>}"
      ]
     },
     "execution_count": 191,
     "metadata": {},
     "output_type": "execute_result"
    }
   ],
   "source": [
    "data_generator.parents"
   ]
  },
  {
   "cell_type": "code",
   "execution_count": 192,
   "metadata": {},
   "outputs": [
    {
     "name": "stdout",
     "output_type": "stream",
     "text": [
      "lambda_.children is data_generator!!!\n"
     ]
    }
   ],
   "source": [
    "for c in lambda_.children:\n",
    "    if c == data_generator:\n",
    "        print('lambda_.children is data_generator!!!')"
   ]
  },
  {
   "cell_type": "markdown",
   "metadata": {},
   "source": [
    "pymc変数はvalueでその変数の値を取得できる。\n",
    "\n",
    "この時取得される値は、各pymc変数の内部状況によって変化する。"
   ]
  },
  {
   "cell_type": "code",
   "execution_count": 194,
   "metadata": {},
   "outputs": [
    {
     "name": "stdout",
     "output_type": "stream",
     "text": [
      "lambda_:  0.2194024380251362\n",
      "data_generator:  0\n",
      "data_plus_one:  1\n"
     ]
    }
   ],
   "source": [
    "print('lambda_: ', lambda_.value)\n",
    "print('data_generator: ', data_generator.value)\n",
    "print('data_plus_one: ', data_plus_one.value)"
   ]
  },
  {
   "cell_type": "markdown",
   "metadata": {},
   "source": [
    "pymc変数は2種類に分類される\n",
    "\n",
    "### stochastic変数\n",
    "決定的でない、引数とか数式が与えられても確率的に値が変化する変数。確率分布によって値が変化する変数って覚えておけばおｋ\n",
    "### deterministic変数\n",
    "決定的な変数。上の例ではdata_plus_one。なぜならdata_generatorの値が決まればそれに1足すだけで他の値に変化することはないため。"
   ]
  },
  {
   "cell_type": "markdown",
   "metadata": {},
   "source": [
    "stochastic変数はrandom()メソッドを呼び出せば新しい値が生成される。"
   ]
  },
  {
   "cell_type": "code",
   "execution_count": 196,
   "metadata": {},
   "outputs": [
    {
     "name": "stdout",
     "output_type": "stream",
     "text": [
      "lambda_:  0.25120148702954864\n",
      "data_generator:  0\n",
      "data_plus_one:  1\n",
      "\n",
      "======random()!!!!!=======\n",
      "\n",
      "lambda_:  4.295718052545287\n",
      "data_generator:  2\n",
      "data_plus_one:  3\n"
     ]
    }
   ],
   "source": [
    "print(\"lambda_: \", lambda_.value)\n",
    "print(\"data_generator: \", data_generator.value)\n",
    "print(\"data_plus_one: \", data_plus_one.value)\n",
    "\n",
    "print(\"\\n======random()!!!!!=======\\n\")\n",
    "lambda_.random()\n",
    "data_generator.random()\n",
    "\n",
    "print(\"lambda_: \", lambda_.value)\n",
    "print(\"data_generator: \", data_generator.value)\n",
    "print(\"data_plus_one: \", data_plus_one.value)"
   ]
  },
  {
   "cell_type": "code",
   "execution_count": null,
   "metadata": {
    "collapsed": true
   },
   "outputs": [],
   "source": []
  },
  {
   "cell_type": "markdown",
   "metadata": {},
   "source": [
    "deterministic変数は関数で定義できるが、（ぶっちゃけstochastic変数も変数というか確率分布の関数）、pm.deteministicというデコレータつけなきゃいけない"
   ]
  },
  {
   "cell_type": "code",
   "execution_count": 197,
   "metadata": {
    "collapsed": true
   },
   "outputs": [],
   "source": [
    "@pm.deterministic\n",
    "def data_plus_one_(gen=data_generator):\n",
    "    return gen + 1"
   ]
  },
  {
   "cell_type": "code",
   "execution_count": 199,
   "metadata": {},
   "outputs": [
    {
     "name": "stdout",
     "output_type": "stream",
     "text": [
      "3\n"
     ]
    }
   ],
   "source": [
    "hoge = data_plus_one_\n",
    "print(hoge.value)"
   ]
  },
  {
   "cell_type": "code",
   "execution_count": null,
   "metadata": {
    "collapsed": true
   },
   "outputs": [],
   "source": []
  },
  {
   "cell_type": "markdown",
   "metadata": {},
   "source": [
    "#### モデルに観測データを組み込む\n",
    "stochastic変数に固定値で初期化することを指す。"
   ]
  },
  {
   "cell_type": "code",
   "execution_count": 203,
   "metadata": {},
   "outputs": [
    {
     "name": "stdout",
     "output_type": "stream",
     "text": [
      "[10 25 15 20 35]\n"
     ]
    }
   ],
   "source": [
    "data = np.array([10, 25, 15, 20, 35])\n",
    "obs = pm.Poisson('obs', lambda_, value=data, observed=True)\n",
    "print(obs.value)"
   ]
  },
  {
   "cell_type": "markdown",
   "metadata": {},
   "source": [
    "観測データを埋め込んだ場合、random()を呼んでもvalueの値は変わらない"
   ]
  },
  {
   "cell_type": "code",
   "execution_count": 205,
   "metadata": {},
   "outputs": [
    {
     "data": {
      "text/plain": [
       "array([10, 25, 15, 20, 35])"
      ]
     },
     "execution_count": 205,
     "metadata": {},
     "output_type": "execute_result"
    }
   ],
   "source": [
    "obs.random()\n",
    "obs.value"
   ]
  },
  {
   "cell_type": "code",
   "execution_count": null,
   "metadata": {
    "collapsed": true
   },
   "outputs": [],
   "source": []
  },
  {
   "cell_type": "code",
   "execution_count": null,
   "metadata": {
    "collapsed": true
   },
   "outputs": [],
   "source": []
  },
  {
   "cell_type": "code",
   "execution_count": null,
   "metadata": {
    "collapsed": true
   },
   "outputs": [],
   "source": []
  },
  {
   "cell_type": "markdown",
   "metadata": {},
   "source": [
    "## 2.2 モデリングのアプローチ\n",
    "\n",
    "ベイズモデリングは全てのデータがある確率に基づいて生成されてると考える。\n",
    "\n",
    "自分が神様の立場に立ったとして考えろとのこと。\n",
    "\n",
    "１章のメッセージ受信数データのモデリングの例\n",
    "1. メッセージ受信数という計数データなので、ポアソン分布からのサンプルだとする\n",
    "2. ポアソン分布のパラメータ$\\lambda$はわからない。データを見ると前半と後半で変わっていそう。変わった変化点を$\\tau$とする\n",
    "3. $\\lambda$はわからないので、正の確率分布で表現する。正の確率分布なので指数分布で表現する\n",
    "4. 指数分布は$\\alpha$のパラメータがあるが、$\\alpha$は観測データの平均値の逆数とする。\n",
    "5. $\\tau$は何日か検討つかないので一様分布にしちゃう"
   ]
  },
  {
   "cell_type": "code",
   "execution_count": 206,
   "metadata": {
    "collapsed": true
   },
   "outputs": [],
   "source": [
    "import daft"
   ]
  },
  {
   "cell_type": "code",
   "execution_count": 207,
   "metadata": {},
   "outputs": [
    {
     "data": {
      "text/plain": [
       "<matplotlib.axes._axes.Axes at 0x11af108d0>"
      ]
     },
     "execution_count": 207,
     "metadata": {},
     "output_type": "execute_result"
    },
    {
     "data": {
      "image/png": "[encoded data removed]",
      "text/plain": [
       "<matplotlib.figure.Figure at 0x11dd2a630>"
      ]
     },
     "metadata": {},
     "output_type": "display_data"
    }
   ],
   "source": [
    "pgm = daft.PGM(shape=[5,6])\n",
    "\n",
    "pgm.add_node(daft.Node(\"tau\", r\"$\\tau$\", 2, 4))\n",
    "pgm.add_node(daft.Node(\"alpha\", r\"$\\alpha$\", 3, 5))\n",
    "pgm.add_node(daft.Node(\"lambda1\", r\"$\\lambda_1$\", 3, 4))\n",
    "pgm.add_node(daft.Node(\"lambda2\", r\"$\\lambda_2$\", 4, 4))\n",
    "pgm.add_node(daft.Node(\"lambda\", r\"$\\lambda$\", 3, 3))\n",
    "pgm.add_node(daft.Node(\"obs\", \"obs\", 3, 2))\n",
    "\n",
    "\n",
    "pgm.add_edge(\"tau\", \"lambda\")\n",
    "pgm.add_edge(\"alpha\",\"lambda1\")\n",
    "pgm.add_edge(\"alpha\", \"lambda2\")\n",
    "pgm.add_edge(\"lambda1\", \"lambda\")\n",
    "pgm.add_edge(\"lambda2\", \"lambda\")\n",
    "pgm.add_edge(\"lambda\", \"obs\")\n",
    "\n",
    "pgm.render()"
   ]
  },
  {
   "cell_type": "markdown",
   "metadata": {},
   "source": [
    "グラフィカルモデルで表すとこのように表現される。\n",
    "\n",
    "ベイズモデルをする上でグラフィカルモデルで表現しておくと、実装が分かりやすかったりする。\n"
   ]
  },
  {
   "cell_type": "markdown",
   "metadata": {},
   "source": [
    "### 2.2.2 A/Bテストによる例題\n",
    "\n",
    "WebアプリのConversionに対して、Aという条件、Bという条件でConversionする確率$P_a$, $P_b$に差異があるかの調査をする。"
   ]
  },
  {
   "cell_type": "code",
   "execution_count": 237,
   "metadata": {},
   "outputs": [
    {
     "name": "stdout",
     "output_type": "stream",
     "text": [
      "[False False False ..., False False False]\n",
      "73\n",
      "0.0486666666667\n"
     ]
    }
   ],
   "source": [
    "### 神様コーナー\n",
    "p_true = 0.05\n",
    "N = 1500\n",
    "\n",
    "occurences = pm.rbernoulli(p_true, N)\n",
    "\n",
    "print(occurences)\n",
    "print(occurences.sum())\n",
    "print(occurences.sum() / N)"
   ]
  },
  {
   "cell_type": "markdown",
   "metadata": {
    "collapsed": true
   },
   "source": [
    "頻度統計主義では$P_a$は真の確率と異なる"
   ]
  },
  {
   "cell_type": "markdown",
   "metadata": {},
   "source": [
    "Conversionする、しないは2値であり、2値の確率変数を扱うのは **ベルヌーイ分布** が適している\n",
    "\n",
    "$X \\sim Ber(p)$\n",
    "\n",
    "と表現し、Xは確率$p$で1の値を取り、$1-p$で0の値を取るという分布である"
   ]
  },
  {
   "cell_type": "markdown",
   "metadata": {},
   "source": [
    "パラメータ１つしかないので単純だけど、グラフィカルモデルで表現するとこうなる"
   ]
  },
  {
   "cell_type": "code",
   "execution_count": 238,
   "metadata": {},
   "outputs": [
    {
     "data": {
      "text/plain": [
       "<matplotlib.axes._axes.Axes at 0x11af660b8>"
      ]
     },
     "execution_count": 238,
     "metadata": {},
     "output_type": "execute_result"
    },
    {
     "data": {
      "image/png": "[encoded data removed]",
      "text/plain": [
       "<matplotlib.figure.Figure at 0x11af55ba8>"
      ]
     },
     "metadata": {},
     "output_type": "display_data"
    }
   ],
   "source": [
    "pgm = daft.PGM(shape=[3,3])\n",
    "\n",
    "pgm.add_node(daft.Node(\"p_a\", r\"$P_a$\", 1, 2))\n",
    "pgm.add_node(daft.Node(\"obs_a\", \"obs_a\", 1, 1))\n",
    "pgm.add_node(daft.Node(\"p_b\", r\"$P_b$\", 2, 2))\n",
    "pgm.add_node(daft.Node(\"obs_b\", \"obs_b\", 2, 1))\n",
    "\n",
    "pgm.add_edge(\"p_a\", \"obs_a\")\n",
    "pgm.add_edge(\"p_b\", \"obs_b\")\n",
    "\n",
    "pgm.render()"
   ]
  },
  {
   "cell_type": "markdown",
   "metadata": {},
   "source": [
    "現在、$P_a$の確率は不明のため0~1の一様分布で事前分布を設定する\n",
    "\n",
    "そして観測データをベルヌーイ分布に設定し、$P_a$の事後分布を設定する"
   ]
  },
  {
   "cell_type": "code",
   "execution_count": 239,
   "metadata": {
    "collapsed": true
   },
   "outputs": [],
   "source": [
    "p_a = pm.Uniform('p_a', lower=0, upper=1)\n",
    "\n",
    "obs = pm.Bernoulli('obs', p_a, value=occurences, observed=True)"
   ]
  },
  {
   "cell_type": "code",
   "execution_count": null,
   "metadata": {
    "collapsed": true
   },
   "outputs": [],
   "source": []
  },
  {
   "cell_type": "code",
   "execution_count": 240,
   "metadata": {},
   "outputs": [
    {
     "name": "stdout",
     "output_type": "stream",
     "text": [
      " [-----------------100%-----------------] 20000 of 20000 complete in 1.3 sec"
     ]
    }
   ],
   "source": [
    "mcmc = pm.MCMC([p_a, obs])\n",
    "mcmc.sample(20000, 1000)"
   ]
  },
  {
   "cell_type": "code",
   "execution_count": 241,
   "metadata": {
    "collapsed": true
   },
   "outputs": [],
   "source": [
    "from matplotlib import pyplot as plt\n",
    "import seaborn"
   ]
  },
  {
   "cell_type": "code",
   "execution_count": 242,
   "metadata": {
    "collapsed": true
   },
   "outputs": [],
   "source": [
    "from IPython.core.pylabtools import figsize"
   ]
  },
  {
   "cell_type": "code",
   "execution_count": 243,
   "metadata": {},
   "outputs": [
    {
     "data": {
      "image/png": "[encoded data removed]",
      "text/plain": [
       "<matplotlib.figure.Figure at 0x11e06a748>"
      ]
     },
     "metadata": {},
     "output_type": "display_data"
    }
   ],
   "source": [
    "figsize(12.5, 4)\n",
    "\n",
    "data = mcmc.trace('p_a')[:]\n",
    "\n",
    "plt.vlines(p_true, 0, 90, linestyle='--', label='true $P_a$ (unkonwn)')\n",
    "plt.hist(data, bins=35, histtype='stepfilled', normed=True)\n",
    "plt.xticks([0.0, 0.10])\n",
    "plt.title('Posterior distribution of $P_a$.')\n",
    "plt.show()"
   ]
  },
  {
   "cell_type": "markdown",
   "metadata": {},
   "source": [
    "同じようにBという条件での確率 $P_b$ を出してみる"
   ]
  },
  {
   "cell_type": "code",
   "execution_count": 308,
   "metadata": {},
   "outputs": [
    {
     "name": "stdout",
     "output_type": "stream",
     "text": [
      "35\n",
      "0.0466666666667\n"
     ]
    }
   ],
   "source": [
    "### 神様コーナー\n",
    "p_b_true = 0.04\n",
    "Nb = 750\n",
    "\n",
    "occurences_B = pm.rbernoulli(p_b_true, Nb)\n",
    "\n",
    "print(occurences_B.sum())\n",
    "print(occurences_B.sum() / Nb)"
   ]
  },
  {
   "cell_type": "code",
   "execution_count": 309,
   "metadata": {
    "collapsed": true
   },
   "outputs": [],
   "source": [
    "p_b = pm.Uniform('p_b', 0, 1)\n",
    "\n",
    "obs_b = pm.Bernoulli('obs_b', p_b, value=occurences_B, observed=True)\n",
    "\n",
    "@pm.deterministic\n",
    "def delta(p_a=p_a, p_b=p_b):\n",
    "    return p_a - p_b"
   ]
  },
  {
   "cell_type": "code",
   "execution_count": 310,
   "metadata": {},
   "outputs": [
    {
     "name": "stdout",
     "output_type": "stream",
     "text": [
      " [-----------------100%-----------------] 20000 of 20000 complete in 2.3 sec"
     ]
    }
   ],
   "source": [
    "mcmc = pm.MCMC([p_a, obs, p_b, obs_b, delta])\n",
    "mcmc.sample(20000, 1000)"
   ]
  },
  {
   "cell_type": "markdown",
   "metadata": {},
   "source": [
    "ベイズ推定によるA/Bテストの結果を確認してみる"
   ]
  },
  {
   "cell_type": "code",
   "execution_count": 311,
   "metadata": {
    "scrolled": false
   },
   "outputs": [
    {
     "data": {
      "image/png": "[encoded data removed]",
      "text/plain": [
       "<matplotlib.figure.Figure at 0x119fba8d0>"
      ]
     },
     "metadata": {},
     "output_type": "display_data"
    }
   ],
   "source": [
    "p_a_samples = mcmc.trace('p_a')[:]\n",
    "p_b_samples = mcmc.trace('p_b')[:]\n",
    "delta_samples = mcmc.trace('delta')[:]\n",
    "\n",
    "figsize(12.5, 10)\n",
    "\n",
    "ax = plt.subplot(311)\n",
    "plt.hist(p_a_samples, histtype='stepfilled', bins=30, normed=True, alpha=0.85, label='posterior of $P_a$', color='#A60628')\n",
    "plt.vlines(p_true, 0, 80, linestyle='--', label='true $P_a$')\n",
    "plt.legend(loc='upper right')\n",
    "plt.xlim(0, .1)\n",
    "plt.ylim(0, 80)\n",
    "plt.suptitle('posterior distribution of $P_a$, $P_b$ and delta')\n",
    "\n",
    "ax = plt.subplot(312)\n",
    "plt.hist(p_b_samples, histtype='stepfilled', bins=30, normed=True, alpha=0.85, label='posterior of $P_b$', color='#467821')\n",
    "plt.vlines(p_b_true, 0, 80, linestyle='--', label='true $P_b$')\n",
    "plt.legend(loc='upper right')\n",
    "plt.xlim(0, .1)\n",
    "plt.ylim(0, 80)\n",
    "plt.ylabel('Density')\n",
    "\n",
    "ax = plt.subplot(313)\n",
    "plt.hist(delta_samples, histtype='stepfilled', bins=30, normed=True, alpha=0.85, label='posterior of delta', color='#7A68A6')\n",
    "plt.vlines(p_true-p_b_true, 0, 80, linestyle='--', label='true delta')\n",
    "plt.legend(loc='upper right')\n",
    "plt.ylim(0, 80)\n",
    "\n",
    "plt.show()"
   ]
  },
  {
   "cell_type": "markdown",
   "metadata": {},
   "source": [
    "この結果だとAの方が良いかなーと言う印象。\n",
    "\n",
    "Bの方のデータをもっと集めると$P_b$の事後確率がさらに信頼できるものとなり、良い比較ができそうとかって分析ができたりする"
   ]
  },
  {
   "cell_type": "code",
   "execution_count": null,
   "metadata": {
    "collapsed": true
   },
   "outputs": [],
   "source": []
  },
  {
   "cell_type": "code",
   "execution_count": null,
   "metadata": {
    "collapsed": true
   },
   "outputs": [],
   "source": []
  },
  {
   "cell_type": "markdown",
   "metadata": {},
   "source": [
    "### 2.2.3 カンニングをした学生の割合"
   ]
  },
  {
   "cell_type": "markdown",
   "metadata": {},
   "source": [
    "試験を受験する生徒N人のうち、カンニングをした学生の割合を推定する。\n",
    "カンニングをする確率を$p$とする。\n",
    "\n",
    "試験後学生にアンケートを取り、「カンニングをしました」という回答を得るイベントの回数をXとする。\n",
    "\n",
    "モデリングをする内容は$p$の事前分布から観測データXにもとづき、$p$の事後分布を得ることである。"
   ]
  },
  {
   "cell_type": "markdown",
   "metadata": {},
   "source": [
    "#### 嘘をモデリングする\n",
    "\n",
    "学生が嘘付く可能性も考慮して、嘘もモデリングに入れる。\n",
    "1. 学生にアンケートを取る際に、見えないところでコインを投げてもらう\n",
    "2. 表が出たら正直に回答してもらう\n",
    "3. 裏が出たらもう1度コインを投げる\n",
    "4. 2回目のコインで表が出たら「カンニングをしました」、裏が出たら「カンニングをしてません」と回答してもらう"
   ]
  },
  {
   "cell_type": "code",
   "execution_count": 254,
   "metadata": {
    "collapsed": true
   },
   "outputs": [],
   "source": [
    "hoge = pm.Uniform('uni', 0, 1)\n",
    "s = []\n",
    "for i in range(1000):\n",
    "    s.append(hoge.value)\n",
    "    hoge.random()"
   ]
  },
  {
   "cell_type": "code",
   "execution_count": 256,
   "metadata": {},
   "outputs": [],
   "source": [
    "import pandas as pd"
   ]
  },
  {
   "cell_type": "code",
   "execution_count": 258,
   "metadata": {},
   "outputs": [],
   "source": [
    "fuga = pd.DataFrame(s)"
   ]
  },
  {
   "cell_type": "code",
   "execution_count": 260,
   "metadata": {},
   "outputs": [
    {
     "data": {
      "text/plain": [
       "array([[<matplotlib.axes._subplots.AxesSubplot object at 0x1186ea208>]], dtype=object)"
      ]
     },
     "execution_count": 260,
     "metadata": {},
     "output_type": "execute_result"
    },
    {
     "data": {
      "image/png": "[encoded data removed]",
      "text/plain": [
       "<matplotlib.figure.Figure at 0x11d35eb70>"
      ]
     },
     "metadata": {},
     "output_type": "display_data"
    }
   ],
   "source": [
    "fuga.hist()"
   ]
  },
  {
   "cell_type": "code",
   "execution_count": null,
   "metadata": {
    "collapsed": true
   },
   "outputs": [],
   "source": []
  },
  {
   "cell_type": "code",
   "execution_count": null,
   "metadata": {
    "collapsed": true
   },
   "outputs": [],
   "source": []
  },
  {
   "cell_type": "code",
   "execution_count": null,
   "metadata": {
    "collapsed": true
   },
   "outputs": [],
   "source": []
  },
  {
   "cell_type": "code",
   "execution_count": 248,
   "metadata": {
    "collapsed": true
   },
   "outputs": [],
   "source": [
    "N = 100 # 学生が100人\n",
    "p = pm.Uniform('freq_cheating', 0, 1) # 学生がカンニングする割合は不明のため、 事前確率は0~1の一様分布とする\n",
    "\n",
    "true_answers = pm.Bernoulli('truths', p, size=N) # 実際にカンニングしたかどうかはベルヌーイ分布で表現する\n",
    "\n",
    "first_coin_flips = pm.Bernoulli('first_flips', 0.5, size=N) # 最初のコインの結果。コインの結果はp=1/2のベルヌーイ分布で生成されるとする。\n",
    "second_coin_flips = pm.Bernoulli('second_flips', 0.5, size=N)\n",
    "\n",
    "# 実際に観測されるのはコインの結果によって変化する。\n",
    "# 1回目が表だったら実際にカンニングしたかどうか\n",
    "# １回目が裏だったら、２回目のコインの結果\n",
    "# この変数はカンニングをしたと回答した割合を表す\n",
    "@pm.deterministic\n",
    "def observed_propotion(t_a=true_answers, fc=first_coin_flips, sc=second_coin_flips):\n",
    "    observed = fc * t_a + (1 - fc) * sc\n",
    "    return observed.sum() / float(N)"
   ]
  },
  {
   "cell_type": "markdown",
   "metadata": {},
   "source": [
    "もし学生が誰もカンニングをしなかったとする。\n",
    "\n",
    "すると「カンニングをした」と回答する数は、１回目に裏が出て、２回目に表がある場合なので、 0.5 * 0.5 = 0.25の確率で起き、１００人いるので約２５人ぐらいから「カンニングをした」と回答が得られるはずである。"
   ]
  },
  {
   "cell_type": "markdown",
   "metadata": {},
   "source": [
    "もし、回答結果が３５人からカンニングをしたと得られたとすると、観測データは以下のように定義できる"
   ]
  },
  {
   "cell_type": "code",
   "execution_count": 251,
   "metadata": {
    "collapsed": true
   },
   "outputs": [],
   "source": [
    "X = 35\n",
    "observations = pm.Binomial('obs', N, observed_propotion, value=X, observed=True)"
   ]
  },
  {
   "cell_type": "markdown",
   "metadata": {},
   "source": [
    "ここで出てきたBenomialとは **二項分布**である。\n",
    "\n",
    "二項分布はパラメータを２つ持つ。試行回数Nと、イベントが発生する確率が$p$である。Xが二項分布に従うとはN回施行したら、イベントがX回となる分布を表す。"
   ]
  },
  {
   "cell_type": "markdown",
   "metadata": {},
   "source": [
    "モデリングができたので、MCMCを使って事後確率を推定する"
   ]
  },
  {
   "cell_type": "code",
   "execution_count": 252,
   "metadata": {},
   "outputs": [
    {
     "name": "stdout",
     "output_type": "stream",
     "text": [
      " [-----------------100%-----------------] 40000 of 40000 complete in 13.6 sec"
     ]
    }
   ],
   "source": [
    "mcmc = pm.MCMC([p, true_answers, first_coin_flips, second_coin_flips, observed_propotion, observations])\n",
    "mcmc.sample(40000, 15000)"
   ]
  },
  {
   "cell_type": "markdown",
   "metadata": {},
   "source": [
    "最初に確認したかった「学生がカンニングをする確率」の事後確率を確認してみる"
   ]
  },
  {
   "cell_type": "code",
   "execution_count": 253,
   "metadata": {},
   "outputs": [
    {
     "data": {
      "image/png": "[encoded data removed]",
      "text/plain": [
       "<matplotlib.figure.Figure at 0x11323c128>"
      ]
     },
     "metadata": {},
     "output_type": "display_data"
    }
   ],
   "source": [
    "figsize(12.5, 3)\n",
    "\n",
    "p_trace = mcmc.trace('freq_cheating')[:]\n",
    "plt.hist(p_trace, histtype='stepfilled', normed=True, alpha=0.85, bins=30, color='#348ABD', label='posterior distribution')\n",
    "plt.vlines([.05, .35], [0, 0], [5,5], alpha=0.3)\n",
    "plt.xlim(0, 1)\n",
    "plt.xlabel('value of $p$')\n",
    "plt.ylabel('Density')\n",
    "plt.title('posterior distribution of parameter $p$')\n",
    "plt.legend()\n",
    "\n",
    "plt.show()"
   ]
  },
  {
   "cell_type": "markdown",
   "metadata": {},
   "source": [
    "この結果からわかることは、\n",
    "- カンニングをする確率は20%ぐらいっぽい気がするけど、そこまで確信が持ててない（振れ幅が大きい）\n",
    "- $p$が0である確率（カンニングが全く起きなかった確率）はほぼ小さいので、カンニングが起きたことはほぼ確信できる"
   ]
  },
  {
   "cell_type": "code",
   "execution_count": null,
   "metadata": {
    "collapsed": true
   },
   "outputs": [],
   "source": []
  },
  {
   "cell_type": "markdown",
   "metadata": {
    "collapsed": true
   },
   "source": [
    "### 2.2.4 スペースシャトルが故障する確率"
   ]
  },
  {
   "cell_type": "markdown",
   "metadata": {},
   "source": [
    "昔のアメリカで起きたスペースシャトル事故の事例。\n",
    "\n",
    "ロケットブースター溶接部の部品であるOリングの破損が原因らしいが、過去の実験データからはスペースシャトル事故とOリングの破損は関係ないとみなされてたっぽい。"
   ]
  },
  {
   "cell_type": "code",
   "execution_count": 35,
   "metadata": {
    "collapsed": true
   },
   "outputs": [],
   "source": [
    "import pandas as pd"
   ]
  },
  {
   "cell_type": "code",
   "execution_count": 39,
   "metadata": {
    "collapsed": true
   },
   "outputs": [],
   "source": [
    "challenger_data_df = pd.read_csv('https://git.io/vXknD')"
   ]
  },
  {
   "cell_type": "code",
   "execution_count": 261,
   "metadata": {},
   "outputs": [
    {
     "data": {
      "text/html": [
       "<div>\n",
       "<table border=\"1\" class=\"dataframe\">\n",
       "  <thead>\n",
       "    <tr style=\"text-align: right;\">\n",
       "      <th></th>\n",
       "      <th>Date</th>\n",
       "      <th>Temperature</th>\n",
       "      <th>Damage Incident</th>\n",
       "    </tr>\n",
       "  </thead>\n",
       "  <tbody>\n",
       "    <tr>\n",
       "      <th>0</th>\n",
       "      <td>04/12/1981</td>\n",
       "      <td>66</td>\n",
       "      <td>0</td>\n",
       "    </tr>\n",
       "    <tr>\n",
       "      <th>1</th>\n",
       "      <td>11/12/1981</td>\n",
       "      <td>70</td>\n",
       "      <td>1</td>\n",
       "    </tr>\n",
       "    <tr>\n",
       "      <th>2</th>\n",
       "      <td>3/22/82</td>\n",
       "      <td>69</td>\n",
       "      <td>0</td>\n",
       "    </tr>\n",
       "    <tr>\n",
       "      <th>3</th>\n",
       "      <td>6/27/82</td>\n",
       "      <td>80</td>\n",
       "      <td>NaN</td>\n",
       "    </tr>\n",
       "    <tr>\n",
       "      <th>4</th>\n",
       "      <td>01/11/1982</td>\n",
       "      <td>68</td>\n",
       "      <td>0</td>\n",
       "    </tr>\n",
       "    <tr>\n",
       "      <th>5</th>\n",
       "      <td>04/04/1983</td>\n",
       "      <td>67</td>\n",
       "      <td>0</td>\n",
       "    </tr>\n",
       "    <tr>\n",
       "      <th>6</th>\n",
       "      <td>6/18/83</td>\n",
       "      <td>72</td>\n",
       "      <td>0</td>\n",
       "    </tr>\n",
       "    <tr>\n",
       "      <th>7</th>\n",
       "      <td>8/30/83</td>\n",
       "      <td>73</td>\n",
       "      <td>0</td>\n",
       "    </tr>\n",
       "    <tr>\n",
       "      <th>8</th>\n",
       "      <td>11/28/83</td>\n",
       "      <td>70</td>\n",
       "      <td>0</td>\n",
       "    </tr>\n",
       "    <tr>\n",
       "      <th>9</th>\n",
       "      <td>02/03/1984</td>\n",
       "      <td>57</td>\n",
       "      <td>1</td>\n",
       "    </tr>\n",
       "    <tr>\n",
       "      <th>10</th>\n",
       "      <td>04/06/1984</td>\n",
       "      <td>63</td>\n",
       "      <td>1</td>\n",
       "    </tr>\n",
       "    <tr>\n",
       "      <th>11</th>\n",
       "      <td>8/30/84</td>\n",
       "      <td>70</td>\n",
       "      <td>1</td>\n",
       "    </tr>\n",
       "    <tr>\n",
       "      <th>12</th>\n",
       "      <td>10/05/1984</td>\n",
       "      <td>78</td>\n",
       "      <td>0</td>\n",
       "    </tr>\n",
       "    <tr>\n",
       "      <th>13</th>\n",
       "      <td>11/08/1984</td>\n",
       "      <td>67</td>\n",
       "      <td>0</td>\n",
       "    </tr>\n",
       "    <tr>\n",
       "      <th>14</th>\n",
       "      <td>1/24/85</td>\n",
       "      <td>53</td>\n",
       "      <td>1</td>\n",
       "    </tr>\n",
       "    <tr>\n",
       "      <th>15</th>\n",
       "      <td>04/12/1985</td>\n",
       "      <td>67</td>\n",
       "      <td>0</td>\n",
       "    </tr>\n",
       "    <tr>\n",
       "      <th>16</th>\n",
       "      <td>4/29/85</td>\n",
       "      <td>75</td>\n",
       "      <td>0</td>\n",
       "    </tr>\n",
       "    <tr>\n",
       "      <th>17</th>\n",
       "      <td>6/17/85</td>\n",
       "      <td>70</td>\n",
       "      <td>0</td>\n",
       "    </tr>\n",
       "    <tr>\n",
       "      <th>18</th>\n",
       "      <td>7/29/85</td>\n",
       "      <td>81</td>\n",
       "      <td>0</td>\n",
       "    </tr>\n",
       "    <tr>\n",
       "      <th>19</th>\n",
       "      <td>8/27/85</td>\n",
       "      <td>76</td>\n",
       "      <td>0</td>\n",
       "    </tr>\n",
       "    <tr>\n",
       "      <th>20</th>\n",
       "      <td>10/03/1985</td>\n",
       "      <td>79</td>\n",
       "      <td>0</td>\n",
       "    </tr>\n",
       "    <tr>\n",
       "      <th>21</th>\n",
       "      <td>10/30/85</td>\n",
       "      <td>75</td>\n",
       "      <td>1</td>\n",
       "    </tr>\n",
       "    <tr>\n",
       "      <th>22</th>\n",
       "      <td>11/26/85</td>\n",
       "      <td>76</td>\n",
       "      <td>0</td>\n",
       "    </tr>\n",
       "    <tr>\n",
       "      <th>23</th>\n",
       "      <td>01/12/1986</td>\n",
       "      <td>58</td>\n",
       "      <td>1</td>\n",
       "    </tr>\n",
       "    <tr>\n",
       "      <th>24</th>\n",
       "      <td>1/28/86</td>\n",
       "      <td>31</td>\n",
       "      <td>Challenger Accident</td>\n",
       "    </tr>\n",
       "  </tbody>\n",
       "</table>\n",
       "</div>"
      ],
      "text/plain": [
       "          Date  Temperature      Damage Incident\n",
       "0   04/12/1981           66                    0\n",
       "1   11/12/1981           70                    1\n",
       "2      3/22/82           69                    0\n",
       "3      6/27/82           80                  NaN\n",
       "4   01/11/1982           68                    0\n",
       "5   04/04/1983           67                    0\n",
       "6      6/18/83           72                    0\n",
       "7      8/30/83           73                    0\n",
       "8     11/28/83           70                    0\n",
       "9   02/03/1984           57                    1\n",
       "10  04/06/1984           63                    1\n",
       "11     8/30/84           70                    1\n",
       "12  10/05/1984           78                    0\n",
       "13  11/08/1984           67                    0\n",
       "14     1/24/85           53                    1\n",
       "15  04/12/1985           67                    0\n",
       "16     4/29/85           75                    0\n",
       "17     6/17/85           70                    0\n",
       "18     7/29/85           81                    0\n",
       "19     8/27/85           76                    0\n",
       "20  10/03/1985           79                    0\n",
       "21    10/30/85           75                    1\n",
       "22    11/26/85           76                    0\n",
       "23  01/12/1986           58                    1\n",
       "24     1/28/86           31  Challenger Accident"
      ]
     },
     "execution_count": 261,
     "metadata": {},
     "output_type": "execute_result"
    }
   ],
   "source": [
    "challenger_data_df"
   ]
  },
  {
   "cell_type": "code",
   "execution_count": 41,
   "metadata": {},
   "outputs": [
    {
     "data": {
      "text/html": [
       "<div>\n",
       "<table border=\"1\" class=\"dataframe\">\n",
       "  <thead>\n",
       "    <tr style=\"text-align: right;\">\n",
       "      <th></th>\n",
       "      <th>Date</th>\n",
       "      <th>Temperature</th>\n",
       "      <th>Damage Incident</th>\n",
       "    </tr>\n",
       "  </thead>\n",
       "  <tbody>\n",
       "    <tr>\n",
       "      <th>0</th>\n",
       "      <td>04/12/1981</td>\n",
       "      <td>66</td>\n",
       "      <td>0</td>\n",
       "    </tr>\n",
       "    <tr>\n",
       "      <th>1</th>\n",
       "      <td>11/12/1981</td>\n",
       "      <td>70</td>\n",
       "      <td>1</td>\n",
       "    </tr>\n",
       "    <tr>\n",
       "      <th>2</th>\n",
       "      <td>3/22/82</td>\n",
       "      <td>69</td>\n",
       "      <td>0</td>\n",
       "    </tr>\n",
       "    <tr>\n",
       "      <th>4</th>\n",
       "      <td>01/11/1982</td>\n",
       "      <td>68</td>\n",
       "      <td>0</td>\n",
       "    </tr>\n",
       "    <tr>\n",
       "      <th>5</th>\n",
       "      <td>04/04/1983</td>\n",
       "      <td>67</td>\n",
       "      <td>0</td>\n",
       "    </tr>\n",
       "    <tr>\n",
       "      <th>6</th>\n",
       "      <td>6/18/83</td>\n",
       "      <td>72</td>\n",
       "      <td>0</td>\n",
       "    </tr>\n",
       "    <tr>\n",
       "      <th>7</th>\n",
       "      <td>8/30/83</td>\n",
       "      <td>73</td>\n",
       "      <td>0</td>\n",
       "    </tr>\n",
       "    <tr>\n",
       "      <th>8</th>\n",
       "      <td>11/28/83</td>\n",
       "      <td>70</td>\n",
       "      <td>0</td>\n",
       "    </tr>\n",
       "    <tr>\n",
       "      <th>9</th>\n",
       "      <td>02/03/1984</td>\n",
       "      <td>57</td>\n",
       "      <td>1</td>\n",
       "    </tr>\n",
       "    <tr>\n",
       "      <th>10</th>\n",
       "      <td>04/06/1984</td>\n",
       "      <td>63</td>\n",
       "      <td>1</td>\n",
       "    </tr>\n",
       "    <tr>\n",
       "      <th>11</th>\n",
       "      <td>8/30/84</td>\n",
       "      <td>70</td>\n",
       "      <td>1</td>\n",
       "    </tr>\n",
       "    <tr>\n",
       "      <th>12</th>\n",
       "      <td>10/05/1984</td>\n",
       "      <td>78</td>\n",
       "      <td>0</td>\n",
       "    </tr>\n",
       "    <tr>\n",
       "      <th>13</th>\n",
       "      <td>11/08/1984</td>\n",
       "      <td>67</td>\n",
       "      <td>0</td>\n",
       "    </tr>\n",
       "    <tr>\n",
       "      <th>14</th>\n",
       "      <td>1/24/85</td>\n",
       "      <td>53</td>\n",
       "      <td>1</td>\n",
       "    </tr>\n",
       "    <tr>\n",
       "      <th>15</th>\n",
       "      <td>04/12/1985</td>\n",
       "      <td>67</td>\n",
       "      <td>0</td>\n",
       "    </tr>\n",
       "    <tr>\n",
       "      <th>16</th>\n",
       "      <td>4/29/85</td>\n",
       "      <td>75</td>\n",
       "      <td>0</td>\n",
       "    </tr>\n",
       "    <tr>\n",
       "      <th>17</th>\n",
       "      <td>6/17/85</td>\n",
       "      <td>70</td>\n",
       "      <td>0</td>\n",
       "    </tr>\n",
       "    <tr>\n",
       "      <th>18</th>\n",
       "      <td>7/29/85</td>\n",
       "      <td>81</td>\n",
       "      <td>0</td>\n",
       "    </tr>\n",
       "    <tr>\n",
       "      <th>19</th>\n",
       "      <td>8/27/85</td>\n",
       "      <td>76</td>\n",
       "      <td>0</td>\n",
       "    </tr>\n",
       "    <tr>\n",
       "      <th>20</th>\n",
       "      <td>10/03/1985</td>\n",
       "      <td>79</td>\n",
       "      <td>0</td>\n",
       "    </tr>\n",
       "    <tr>\n",
       "      <th>21</th>\n",
       "      <td>10/30/85</td>\n",
       "      <td>75</td>\n",
       "      <td>1</td>\n",
       "    </tr>\n",
       "    <tr>\n",
       "      <th>22</th>\n",
       "      <td>11/26/85</td>\n",
       "      <td>76</td>\n",
       "      <td>0</td>\n",
       "    </tr>\n",
       "    <tr>\n",
       "      <th>23</th>\n",
       "      <td>01/12/1986</td>\n",
       "      <td>58</td>\n",
       "      <td>1</td>\n",
       "    </tr>\n",
       "    <tr>\n",
       "      <th>24</th>\n",
       "      <td>1/28/86</td>\n",
       "      <td>31</td>\n",
       "      <td>Challenger Accident</td>\n",
       "    </tr>\n",
       "  </tbody>\n",
       "</table>\n",
       "</div>"
      ],
      "text/plain": [
       "          Date  Temperature      Damage Incident\n",
       "0   04/12/1981           66                    0\n",
       "1   11/12/1981           70                    1\n",
       "2      3/22/82           69                    0\n",
       "4   01/11/1982           68                    0\n",
       "5   04/04/1983           67                    0\n",
       "6      6/18/83           72                    0\n",
       "7      8/30/83           73                    0\n",
       "8     11/28/83           70                    0\n",
       "9   02/03/1984           57                    1\n",
       "10  04/06/1984           63                    1\n",
       "11     8/30/84           70                    1\n",
       "12  10/05/1984           78                    0\n",
       "13  11/08/1984           67                    0\n",
       "14     1/24/85           53                    1\n",
       "15  04/12/1985           67                    0\n",
       "16     4/29/85           75                    0\n",
       "17     6/17/85           70                    0\n",
       "18     7/29/85           81                    0\n",
       "19     8/27/85           76                    0\n",
       "20  10/03/1985           79                    0\n",
       "21    10/30/85           75                    1\n",
       "22    11/26/85           76                    0\n",
       "23  01/12/1986           58                    1\n",
       "24     1/28/86           31  Challenger Accident"
      ]
     },
     "execution_count": 41,
     "metadata": {},
     "output_type": "execute_result"
    }
   ],
   "source": [
    "challenger_data_df.dropna()"
   ]
  },
  {
   "cell_type": "code",
   "execution_count": 262,
   "metadata": {
    "collapsed": true
   },
   "outputs": [],
   "source": [
    "challenger_data = challenger_data_df[['Temperature', 'Damage Incident']].dropna()[:-1].as_matrix().astype('float64')"
   ]
  },
  {
   "cell_type": "code",
   "execution_count": 263,
   "metadata": {},
   "outputs": [
    {
     "data": {
      "text/plain": [
       "array([[ 66.,   0.],\n",
       "       [ 70.,   1.],\n",
       "       [ 69.,   0.],\n",
       "       [ 68.,   0.],\n",
       "       [ 67.,   0.],\n",
       "       [ 72.,   0.],\n",
       "       [ 73.,   0.],\n",
       "       [ 70.,   0.],\n",
       "       [ 57.,   1.],\n",
       "       [ 63.,   1.],\n",
       "       [ 70.,   1.],\n",
       "       [ 78.,   0.],\n",
       "       [ 67.,   0.],\n",
       "       [ 53.,   1.],\n",
       "       [ 67.,   0.],\n",
       "       [ 75.,   0.],\n",
       "       [ 70.,   0.],\n",
       "       [ 81.,   0.],\n",
       "       [ 76.,   0.],\n",
       "       [ 79.,   0.],\n",
       "       [ 75.,   1.],\n",
       "       [ 76.,   0.],\n",
       "       [ 58.,   1.]])"
      ]
     },
     "execution_count": 263,
     "metadata": {},
     "output_type": "execute_result"
    }
   ],
   "source": [
    "challenger_data"
   ]
  },
  {
   "cell_type": "code",
   "execution_count": 264,
   "metadata": {},
   "outputs": [
    {
     "data": {
      "text/plain": [
       "<matplotlib.text.Text at 0x11891d6d8>"
      ]
     },
     "execution_count": 264,
     "metadata": {},
     "output_type": "execute_result"
    },
    {
     "data": {
      "image/png": "[encoded data removed]",
      "text/plain": [
       "<matplotlib.figure.Figure at 0x118709c88>"
      ]
     },
     "metadata": {},
     "output_type": "display_data"
    }
   ],
   "source": [
    "plt.scatter(challenger_data[:, 0], challenger_data[:, 1], s=75, color='k', alpha=0.5)\n",
    "plt.yticks([0, 1])\n",
    "plt.ylabel('Damage incident?')\n",
    "plt.xlabel('Outside temperature (F)')\n",
    "plt.title('Defects of the space shuttle O-rings vs temperatures')"
   ]
  },
  {
   "cell_type": "markdown",
   "metadata": {},
   "source": [
    "気温が下がると故障確率が上がってるようにみえる。\n",
    "\n",
    "特に明確なしきい値はわかりにくいため（65F以下だと起きるみたいな）、ある気温$t$だと故障する確率はx%みたいな確率$p(t)$を考えなければならない\n",
    "\n",
    "この確率$p(t)$は気温が下がると1に近づき、気温が上がると徐々に0に近づいていくような関数で表現する必要がある。\n",
    "\n",
    "そのような表現をする関数はたくさんあるけど、いちばん有名なのは **ロジスティック関数**である。\n",
    "\n",
    "\\begin{align}\n",
    "&\n",
    "& p(t) = \\frac{1}{1 + e^{\\beta t}}\n",
    "& \n",
    "\\end{align}"
   ]
  },
  {
   "cell_type": "markdown",
   "metadata": {},
   "source": [
    "ロジスティック関数は $\\beta$をパラメータとしてもち、$\\beta$の値によって以下のように形が変わる"
   ]
  },
  {
   "cell_type": "code",
   "execution_count": 265,
   "metadata": {},
   "outputs": [
    {
     "data": {
      "text/plain": [
       "<matplotlib.legend.Legend at 0x119285240>"
      ]
     },
     "execution_count": 265,
     "metadata": {},
     "output_type": "execute_result"
    },
    {
     "data": {
      "image/png": "[encoded data removed]",
      "text/plain": [
       "<matplotlib.figure.Figure at 0x11d35c438>"
      ]
     },
     "metadata": {},
     "output_type": "display_data"
    }
   ],
   "source": [
    "figsize(12, 3)\n",
    "\n",
    "def logistic(x, beta):\n",
    "    return 1.0 / (1.0 + np.exp(beta*x))\n",
    "\n",
    "x = np.linspace(-4, 4, 100)\n",
    "plt.plot(x, logistic(x, 1), label=r\"$\\beta = 1$\")\n",
    "plt.plot(x, logistic(x, 3), label=r\"$\\beta = 3$\")\n",
    "plt.plot(x, logistic(x, -5), label=r\"$\\beta = -5$\")\n",
    "\n",
    "plt.xlabel(\"$x$\")\n",
    "plt.ylabel(\"Logistic function at $x$\")\n",
    "plt.title(r\"Logtitstic function for different $\\beta$ value\")\n",
    "plt.legend()"
   ]
  },
  {
   "cell_type": "markdown",
   "metadata": {},
   "source": [
    "このままだと$x=0$のとき, 0.5の値をとるのはどの$\\beta$のときでも変わらないので ($\\frac{1}{1 + e^{\\beta 0}} = \\frac{1}{1 + 1} = 0.5$)\n",
    "\n",
    "バイアス項$\\alpha$を設定しておく\n",
    "\n",
    "\n",
    "\\begin{align}\n",
    "&\n",
    "& p(t) = \\frac{1}{1 + e^{\\beta t+\\alpha}}\n",
    "& \n",
    "\\end{align}"
   ]
  },
  {
   "cell_type": "code",
   "execution_count": 266,
   "metadata": {},
   "outputs": [
    {
     "data": {
      "text/plain": [
       "<matplotlib.legend.Legend at 0x11e224cf8>"
      ]
     },
     "execution_count": 266,
     "metadata": {},
     "output_type": "execute_result"
    },
    {
     "data": {
      "image/png": "[encoded data removed]",
      "text/plain": [
       "<matplotlib.figure.Figure at 0x11e239400>"
      ]
     },
     "metadata": {},
     "output_type": "display_data"
    }
   ],
   "source": [
    "figsize(12, 3)\n",
    "\n",
    "def logistic(x, beta, alpha=0):\n",
    "    return 1.0 / (1.0 + np.exp(beta*x + alpha))\n",
    "\n",
    "x = np.linspace(-4, 4, 100)\n",
    "plt.plot(x, logistic(x, 1), label=r\"$\\beta = 1$\")\n",
    "plt.plot(x, logistic(x, 3), label=r\"$\\beta = 3$\")\n",
    "plt.plot(x, logistic(x, -5), label=r\"$\\beta = -5$\")\n",
    "plt.plot(x, logistic(x, 1, 1), label=r\"$\\beta=1, \\alpha=1$\")\n",
    "plt.plot(x, logistic(x, 3, -2), label=r\"$\\beta = 3, \\alpha=-2$\")\n",
    "plt.plot(x, logistic(x, -5, 7), label=r\"$\\beta = -5, \\alpha=7$\")\n",
    "\n",
    "plt.xlabel(\"$x$\")\n",
    "plt.ylabel(\"Logistic function at $x$\")\n",
    "plt.title(r\"Logtitstic function for different $\\beta$ value\")\n",
    "plt.legend()"
   ]
  },
  {
   "cell_type": "markdown",
   "metadata": {},
   "source": [
    "$\\alpha$の値をいれるとグラフが左右に平行移動する"
   ]
  },
  {
   "cell_type": "markdown",
   "metadata": {},
   "source": [
    "PyMCを使ってモデリングしていく！\n",
    "\n",
    "1. 気温$t$において故障する確率をロジスティック関数で表現される$p(t)$で表す\n",
    "2. $p(t)$は$\\alpha$, $\\beta$のパラメータを持つ\n",
    "3. $\\alpha$, $\\beta$はどんな値でも取りうるけど、どんな値がいいかわからないので、正規分布でモデリングする\n",
    "4. 正規分布は平均$\\mu$と精度$\\tau$をパラメータとしてもつ。(pyMCでは分散$\\sigma ^2$の逆数である$\\tau$を使う。$\\sigma ^2 = \\frac{1}{\\tau}$)\n",
    "5. 観測データは各気温$t$において、$p(t)$をパラメータとして持つベルヌーイ分布によって生成されるとする"
   ]
  },
  {
   "cell_type": "code",
   "execution_count": 267,
   "metadata": {},
   "outputs": [
    {
     "data": {
      "text/plain": [
       "<matplotlib.axes._axes.Axes at 0x122920fd0>"
      ]
     },
     "execution_count": 267,
     "metadata": {},
     "output_type": "execute_result"
    },
    {
     "data": {
      "image/png": "[encoded data removed]",
      "text/plain": [
       "<matplotlib.figure.Figure at 0x122920860>"
      ]
     },
     "metadata": {},
     "output_type": "display_data"
    }
   ],
   "source": [
    "pgm = daft.PGM(shape=[7,5])\n",
    "\n",
    "pgm.add_node(daft.Node(\"mu_alpha\", r\"$\\mu_\\alpha$\", 1, 4))\n",
    "pgm.add_node(daft.Node(\"tau_alpha\", r\"$\\tau_\\alpha$\", 3, 4))\n",
    "pgm.add_node(daft.Node(\"mu_beta\", r\"$\\mu_\\beta$\", 4, 4))\n",
    "pgm.add_node(daft.Node(\"tau_beta\", r\"$\\tau_\\beta$\", 6, 4))\n",
    "\n",
    "pgm.add_node(daft.Node(\"alpha\", r\"$\\alpha$\", 2, 3))\n",
    "pgm.add_node(daft.Node(\"beta\", r\"$\\beta$\", 5, 3))\n",
    "\n",
    "pgm.add_node(daft.Node(\"p_t\", r\"$p(t)$\",3.5, 2))\n",
    "\n",
    "pgm.add_node(daft.Node(\"obs\", \"obs\", 3.5, 1))\n",
    "\n",
    "pgm.add_edge(\"mu_alpha\", \"alpha\")\n",
    "pgm.add_edge(\"tau_alpha\", \"alpha\")\n",
    "pgm.add_edge(\"mu_beta\", \"beta\")\n",
    "pgm.add_edge(\"tau_beta\", \"beta\")\n",
    "pgm.add_edge(\"alpha\", \"p_t\")\n",
    "pgm.add_edge(\"beta\", \"p_t\")\n",
    "pgm.add_edge(\"p_t\", \"obs\")\n",
    "\n",
    "pgm.render()"
   ]
  },
  {
   "cell_type": "markdown",
   "metadata": {},
   "source": [
    "#### 正規分布について\n",
    "---\n",
    "正規分布で表現される確率変数は以下の式で表現され、平均$\\mu$の値を取りやすく、精度$\\tau$が大きいと振れ幅が小さくなる特徴を持つ\n",
    "\n",
    "\\begin{align}\n",
    "&\n",
    "& f(x|\\mu, \\tau) = \\sqrt{\\frac{\\tau}{2\\pi}} \\exp{\\biggl(-\\frac{\\tau}{2}(x - \\mu)^2 \\biggr)} \n",
    "& \n",
    "\\end{align}\n",
    "\n",
    "確率変数$A$が正規分布で表現される時\n",
    "\n",
    "\\begin{align}\n",
    "&\n",
    "& A \\sim N(\\mu, \\tau)\n",
    "& \n",
    "\\end{align}\n",
    "と表す"
   ]
  },
  {
   "cell_type": "code",
   "execution_count": 273,
   "metadata": {},
   "outputs": [
    {
     "data": {
      "text/plain": [
       "<matplotlib.text.Text at 0x11e2fb7b8>"
      ]
     },
     "execution_count": 273,
     "metadata": {},
     "output_type": "execute_result"
    },
    {
     "data": {
      "image/png": "[encoded data removed]",
      "text/plain": [
       "<matplotlib.figure.Figure at 0x122e4e978>"
      ]
     },
     "metadata": {},
     "output_type": "display_data"
    }
   ],
   "source": [
    "import scipy.stats as stats\n",
    "nor = stats.norm\n",
    "colors = [\"#348ABD\", \"#A60628\", \"#7A68A6\", \"#0242F3\"]\n",
    "\n",
    "x = np.linspace(-8000, 8000, 15000)\n",
    "mu = (-2, 0, 3, 0)\n",
    "tau = (0.7, 1, 2.8, 0.001)\n",
    "parameters = zip(mu, tau, colors)\n",
    "\n",
    "for m, t, c in parameters:\n",
    "    if c == '#0242F3':\n",
    "        plt.plot(x, nor.pdf(x, m, scale=1. / t), label=r\"$\\mu = %d, \\tau=%.1f$\"%(m, t), color=c)\n",
    "        plt.fill_between(x, nor.pdf(x, m, scale=1. / t), color=c, alpha=0.33)\n",
    "    \n",
    "plt.legend(loc=\"upper right\")\n",
    "plt.xlabel(\"$x$\")\n",
    "plt.ylabel(\"Density function at $x$\")\n",
    "plt.title(\"Probability distribution of three different Normal parameters\")"
   ]
  },
  {
   "cell_type": "markdown",
   "metadata": {},
   "source": [
    "$\\mu$, $\\tau$をそれぞれ0, 0.001となるとどの値でも平均的に取りやすくなるので、今回はこの値を採用する"
   ]
  },
  {
   "cell_type": "markdown",
   "metadata": {},
   "source": [
    "---\n",
    "話を戻してPyMCでモデリングをしていく"
   ]
  },
  {
   "cell_type": "code",
   "execution_count": 274,
   "metadata": {
    "collapsed": true
   },
   "outputs": [],
   "source": [
    "temperature = challenger_data[:, 0]\n",
    "D = challenger_data[:, 1]\n",
    "\n",
    "beta  = pm.Normal(\"beta\",  0, 0.001, value=0)\n",
    "alpha = pm.Normal(\"alpha\", 0, 0.001, value=0)\n",
    "\n",
    "@pm.deterministic\n",
    "def p(t=temperature, alpha=alpha, beta=beta):\n",
    "    return 1.0 / (1. + np.exp(beta * t + alpha))\n",
    "\n",
    "obs = pm.Bernoulli(\"obs\", p, value=D, observed=True)"
   ]
  },
  {
   "cell_type": "code",
   "execution_count": 275,
   "metadata": {},
   "outputs": [
    {
     "name": "stdout",
     "output_type": "stream",
     "text": [
      " [-----------------100%-----------------] 120000 of 120000 complete in 11.5 sec"
     ]
    }
   ],
   "source": [
    "model = pm.Model([beta, alpha, obs])\n",
    "map_ = pm.MAP(model)\n",
    "map_.fit()\n",
    "mcmc = pm.MCMC(model)\n",
    "mcmc.sample(120000, 100000, 2)"
   ]
  },
  {
   "cell_type": "markdown",
   "metadata": {},
   "source": [
    "これで$\\alpha$, $\\beta$の事後分布が得られた"
   ]
  },
  {
   "cell_type": "code",
   "execution_count": null,
   "metadata": {
    "collapsed": true
   },
   "outputs": [],
   "source": []
  },
  {
   "cell_type": "code",
   "execution_count": 276,
   "metadata": {},
   "outputs": [
    {
     "data": {
      "text/plain": [
       "<matplotlib.legend.Legend at 0x11ba7e0b8>"
      ]
     },
     "execution_count": 276,
     "metadata": {},
     "output_type": "execute_result"
    },
    {
     "data": {
      "image/png": "[encoded data removed]",
      "text/plain": [
       "<matplotlib.figure.Figure at 0x11af14588>"
      ]
     },
     "metadata": {},
     "output_type": "display_data"
    }
   ],
   "source": [
    "figsize(12.5,  6)\n",
    "\n",
    "alpha_samples = mcmc.trace('alpha')[:, None]\n",
    "beta_samples = mcmc.trace('beta')[:, None]\n",
    "\n",
    "plt.subplot(211)\n",
    "plt.title('Posterior distribution of 'r\"the model parameters $\\alpha$, $\\beta$\")\n",
    "plt.hist(beta_samples, histtype='stepfilled', bins=35, alpha=0.85, color=\"#7A68A6\", normed=True, label=r\"posterior of $\\beta$\")\n",
    "plt.legend()\n",
    "\n",
    "plt.subplot(212)\n",
    "plt.hist(alpha_samples, histtype='stepfilled', bins=35, alpha=0.85, color=\"#A60628\", normed=True, label=r\"posterior of $\\alpha$\")\n",
    "\n",
    "plt.ylabel(\"Density\")\n",
    "plt.xlabel(\"value of paramter\")\n",
    "plt.legend()\n"
   ]
  },
  {
   "cell_type": "markdown",
   "metadata": {},
   "source": [
    "この結果からわかることは、\n",
    "\n",
    "- $\\beta$が0以外のところに集中してそうなので、外気は破損発生の確率に影響してそう\n",
    "- $\\alpha$の値が負の値なので、気温が下がるほど確率が上がりそう\n",
    "- データ数は少ないので確信度は低い結果となっている"
   ]
  },
  {
   "cell_type": "code",
   "execution_count": null,
   "metadata": {
    "collapsed": true
   },
   "outputs": [],
   "source": []
  },
  {
   "cell_type": "markdown",
   "metadata": {},
   "source": [
    "#### 事後確率から取りうる値をサンプリング\n",
    "得られた事後分布の$\\beta$, $\\alpha$から、$p(t)$を計算し、$p(t)$の平均値を出してみる"
   ]
  },
  {
   "cell_type": "code",
   "execution_count": 279,
   "metadata": {},
   "outputs": [
    {
     "data": {
      "text/plain": [
       "(10000, 1)"
      ]
     },
     "execution_count": 279,
     "metadata": {},
     "output_type": "execute_result"
    }
   ],
   "source": [
    "beta_samples.shape"
   ]
  },
  {
   "cell_type": "code",
   "execution_count": 277,
   "metadata": {},
   "outputs": [
    {
     "data": {
      "text/plain": [
       "<matplotlib.text.Text at 0x118ec7128>"
      ]
     },
     "execution_count": 277,
     "metadata": {},
     "output_type": "execute_result"
    },
    {
     "data": {
      "image/png": "[encoded data removed]",
      "text/plain": [
       "<matplotlib.figure.Figure at 0x106848518>"
      ]
     },
     "metadata": {},
     "output_type": "display_data"
    }
   ],
   "source": [
    "figsize(12.5, 4)\n",
    "\n",
    "t = np.linspace(temperature.min() - 5, temperature.max() + 5, 50)[:, None]\n",
    "p_t = logistic(t.T, beta_samples, alpha_samples)\n",
    "\n",
    "mean_p_t = p_t.mean(axis=0)\n",
    "\n",
    "plt.plot(t, mean_p_t, lw=3, label='average posterior probability of fefact')\n",
    "plt.plot(t, p_t[0, :], ls='--', label='sample0')\n",
    "plt.plot(t, p_t[-1000, :], ls='--', label='sample1')\n",
    "plt.scatter(temperature, D, color='k', s=50, alpha=0.5)\n",
    "plt.legend(loc='lower left')\n",
    "plt.xlim(t.min(), t.max())\n",
    "plt.ylim(-0.1, 1.1)\n",
    "plt.ylabel('Probability')\n",
    "plt.xlabel('Temperature')"
   ]
  },
  {
   "cell_type": "code",
   "execution_count": 280,
   "metadata": {},
   "outputs": [
    {
     "data": {
      "text/plain": [
       "<matplotlib.text.Text at 0x1237ff828>"
      ]
     },
     "execution_count": 280,
     "metadata": {},
     "output_type": "execute_result"
    },
    {
     "data": {
      "image/png": "[encoded data removed]",
      "text/plain": [
       "<matplotlib.figure.Figure at 0x112e7a7f0>"
      ]
     },
     "metadata": {},
     "output_type": "display_data"
    }
   ],
   "source": [
    "figsize(12.5, 4)\n",
    "\n",
    "from scipy.stats.mstats import mquantiles\n",
    "qs = mquantiles(p_t, [0.025, 0.975], axis=0)\n",
    "\n",
    "plt.fill_between(t[:, 0], *qs, alpha=0.7, color='#7A68A6')\n",
    "plt.plot(t[:, 0], qs[0], alpha=0.7, color='#7A68A6')\n",
    "plt.plot(t, mean_p_t, lw=1, ls='--', color='k')\n",
    "\n",
    "plt.scatter(temperature, D, color='k', s=50, alpha=0.5)\n",
    "plt.xlim(t.min(), t.max())\n",
    "plt.ylim(-0.1, 1.1)\n",
    "plt.ylabel('Probability')\n",
    "plt.xlabel('Temperature')"
   ]
  },
  {
   "cell_type": "markdown",
   "metadata": {},
   "source": [
    "太い所は信頼区間が広いので、データ取りまくって信頼度をあげるのが良いと分析できる"
   ]
  },
  {
   "cell_type": "code",
   "execution_count": null,
   "metadata": {
    "collapsed": true
   },
   "outputs": [],
   "source": []
  },
  {
   "cell_type": "code",
   "execution_count": null,
   "metadata": {
    "collapsed": true
   },
   "outputs": [],
   "source": []
  },
  {
   "cell_type": "code",
   "execution_count": null,
   "metadata": {
    "collapsed": true
   },
   "outputs": [],
   "source": []
  },
  {
   "cell_type": "code",
   "execution_count": null,
   "metadata": {
    "collapsed": true
   },
   "outputs": [],
   "source": []
  },
  {
   "cell_type": "code",
   "execution_count": null,
   "metadata": {
    "collapsed": true
   },
   "outputs": [],
   "source": []
  },
  {
   "cell_type": "markdown",
   "metadata": {},
   "source": [
    "## 2.3 このモデルは適切か？\n",
    "\n",
    "上のスペースシャトルの例では勝手に、気温と故障の確率はロジスティック関数で表現できると決めちゃってるが、それは正しいのか？"
   ]
  },
  {
   "cell_type": "markdown",
   "metadata": {},
   "source": [
    "筆者曰く、それを判断するのはP値など定量的なもの判断するのはややこしいので、得られたモデルからデータサンプリングしてみて、得られるサンプルデータがどれだけ観測データに似てるか見るのが簡単とのこと"
   ]
  },
  {
   "cell_type": "code",
   "execution_count": 291,
   "metadata": {
    "collapsed": true
   },
   "outputs": [],
   "source": [
    "simulation_data = pm.Bernoulli('simulation_data', p)"
   ]
  },
  {
   "cell_type": "code",
   "execution_count": 292,
   "metadata": {},
   "outputs": [
    {
     "data": {
      "text/plain": [
       "array([ True, False, False, False, False, False, False,  True,  True,\n",
       "       False, False, False,  True,  True, False, False,  True, False,\n",
       "       False, False, False, False, False], dtype=bool)"
      ]
     },
     "execution_count": 292,
     "metadata": {},
     "output_type": "execute_result"
    }
   ],
   "source": [
    "simulation_data.value"
   ]
  },
  {
   "cell_type": "code",
   "execution_count": 304,
   "metadata": {},
   "outputs": [
    {
     "name": "stdout",
     "output_type": "stream",
     "text": [
      " [-----------------100%-----------------] 10000 of 10000 complete in 2.5 sec"
     ]
    }
   ],
   "source": [
    "mcmc = pm.MCMC([alpha, beta, obs, simulation_data])\n",
    "mcmc.sample(10000)"
   ]
  },
  {
   "cell_type": "code",
   "execution_count": 305,
   "metadata": {
    "collapsed": true
   },
   "outputs": [],
   "source": [
    "simulationed_data = mcmc.trace('simulation_data')[:]"
   ]
  },
  {
   "cell_type": "code",
   "execution_count": 306,
   "metadata": {},
   "outputs": [
    {
     "data": {
      "text/plain": [
       "(10000, 23)"
      ]
     },
     "execution_count": 306,
     "metadata": {},
     "output_type": "execute_result"
    }
   ],
   "source": [
    "simulationed_data.shape"
   ]
  },
  {
   "cell_type": "code",
   "execution_count": 307,
   "metadata": {},
   "outputs": [
    {
     "data": {
      "image/png": "[encoded data removed]",
      "text/plain": [
       "<matplotlib.figure.Figure at 0x11d6022e8>"
      ]
     },
     "metadata": {},
     "output_type": "display_data"
    }
   ],
   "source": [
    "figsize(12.5, 10)\n",
    "for i in range(4):\n",
    "    ax = plt.subplot(4, 1, i + 1)\n",
    "    plt.scatter(temperature, simulationed_data[500 + i, :], color='k', s=50, alpha=0.6)"
   ]
  },
  {
   "cell_type": "markdown",
   "metadata": {},
   "source": [
    "まぁ観測データに似てるからいっか！みたいなノリらしい"
   ]
  },
  {
   "cell_type": "code",
   "execution_count": null,
   "metadata": {
    "collapsed": true
   },
   "outputs": [],
   "source": []
  },
  {
   "cell_type": "code",
   "execution_count": null,
   "metadata": {
    "collapsed": true
   },
   "outputs": [],
   "source": []
  },
  {
   "cell_type": "markdown",
   "metadata": {},
   "source": [
    "## 2.4 おわりに\n",
    "\n",
    "この章では\n",
    "- 実際にPyMCを使ったベイズモデリングの構築方法を見てきた\n",
    "- 観測データがどのような確率分布に従って生成されたか考えることがベイズモデリングの最初の1歩\n",
    "- あとはPyMCで数式を作って、MCMCに投げれば事後確率が出てくる\n",
    "- MCMCの中身は3章で！"
   ]
  },
  {
   "cell_type": "markdown",
   "metadata": {},
   "source": [
    "### 今日出てきた確率分布\n",
    "--- \n",
    "\n",
    "- ポアソン分布\n",
    "  - 正の計数分布を表現する\n",
    "- 指数分布\n",
    "  - 正の整数の分布を表現する\n",
    "- 一様分布\n",
    "  - 特定の範囲で同じ確率で起きる分布を表現する\n",
    "- ベルヌーイ分布\n",
    "    - 結果が2値である時、確率pで1をとる分布を表現する\n",
    "- 二項分布\n",
    "  - 結果が2値である施行をN回やった時、1が出る数の分布を表現する\n",
    "- 正規分布\n",
    "  - 平均$\\mu$、精度$\\tau$近辺で発生しやすい値の分布を表現する"
   ]
  },
  {
   "cell_type": "code",
   "execution_count": null,
   "metadata": {
    "collapsed": true
   },
   "outputs": [],
   "source": []
  },
  {
   "cell_type": "code",
   "execution_count": null,
   "metadata": {
    "collapsed": true
   },
   "outputs": [],
   "source": []
  }
 ],
 "metadata": {
  "kernelspec": {
   "display_name": "Python 3",
   "language": "python",
   "name": "python3"
  },
  "language_info": {
   "codemirror_mode": {
    "name": "ipython",
    "version": 3
   },
   "file_extension": ".py",
   "mimetype": "text/x-python",
   "name": "python",
   "nbconvert_exporter": "python",
   "pygments_lexer": "ipython3",
   "version": "3.5.1"
  }
 },
 "nbformat": 4,
 "nbformat_minor": 2
}
