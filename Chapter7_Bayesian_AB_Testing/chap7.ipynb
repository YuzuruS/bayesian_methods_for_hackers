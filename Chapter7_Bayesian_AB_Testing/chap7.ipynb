{
 "cells": [
  {
   "cell_type": "code",
   "execution_count": 3,
   "metadata": {
    "collapsed": true
   },
   "outputs": [],
   "source": [
    "visitors_to_A = 1300\n",
    "visitors_to_B = 1275\n",
    "\n",
    "conversions_from_A = 120\n",
    "conversions_from_B = 125"
   ]
  },
  {
   "cell_type": "markdown",
   "metadata": {},
   "source": [
    "# AとBのコンバージョンの確率のモデリング\n",
    "\n",
    "* 事前分布はベータ分布\n",
    " * 値が0から1まで制限されていて、確率が取る範囲と同じため\n",
    "* 訪問者とコンバージョンデータは二項分布に従う\n",
    " * 1300回中120回の成功とする\n",
    "\n",
    "* 事前分布が$Beta(\\alpha_0,\\beta_0)$で$N$回中$X$回の成功を観測\n",
    " * 事後分布 => $Beta(\\alpha_0 + X,\\beta_0 + N - X)$\n"
   ]
  },
  {
   "cell_type": "code",
   "execution_count": 4,
   "metadata": {},
   "outputs": [],
   "source": [
    "# scipyのbetaを使えば事後分布からサンプリングできる！\n",
    "\n",
    "from scipy.stats import beta\n",
    "\n",
    "# 事前分布をBeta(1,1)と仮定\n",
    "alpha_prior = 1\n",
    "beta_prior = 1\n",
    "\n",
    "posterior_A = beta(alpha_prior + conversions_from_A, beta_prior + visitors_to_A - conversions_from_A)\n",
    "posterior_B = beta(alpha_prior + conversions_from_B, beta_prior + visitors_to_B - conversions_from_B)"
   ]
  },
  {
   "cell_type": "code",
   "execution_count": 6,
   "metadata": {
    "scrolled": true
   },
   "outputs": [
    {
     "name": "stdout",
     "output_type": "stream",
     "text": [
      "0.31105\n"
     ]
    }
   ],
   "source": [
    "# Aの事後分布のサンプルがBの事後分布からのサンプルよりもおおきくなる確率を比較\n",
    "# rvsメソッドを使ってサンプリング\n",
    "\n",
    "samples = 20000 #サンプル数を大きくして近似制度を上げたい\n",
    "samples_posterior_A =  posterior_A.rvs(samples)\n",
    "samples_posterior_B =  posterior_B.rvs(samples)\n",
    "\n",
    "print((samples_posterior_A > samples_posterior_B).mean())"
   ]
  },
  {
   "cell_type": "markdown",
   "metadata": {},
   "source": [
    "サイトAがサイトBよりもコンバージョンが高い確率↑\n",
    "\n",
    "pdfメソッドをつかえば、事後分布を可視化できる"
   ]
  },
  {
   "cell_type": "code",
   "execution_count": 9,
   "metadata": {},
   "outputs": [
    {
     "data": {
      "text/plain": [
       "<matplotlib.legend.Legend at 0x110d12320>"
      ]
     },
     "execution_count": 9,
     "metadata": {},
     "output_type": "execute_result"
    },
    {
     "data": {
      "image/png": "[encoded data removed]",
      "text/plain": [
       "<matplotlib.figure.Figure at 0x10f7bc400>"
      ]
     },
     "metadata": {},
     "output_type": "display_data"
    }
   ],
   "source": [
    "from IPython.core.pylabtools import figsize\n",
    "import numpy as np\n",
    "from matplotlib import pyplot as plt\n",
    "%matplotlib inline\n",
    "figsize(12.5, 4)\n",
    "\n",
    "x = np.linspace(0, 1, 500)\n",
    "plt.plot(x, posterior_A.pdf(x), label = 'postA')\n",
    "plt.plot(x, posterior_B.pdf(x), label = 'postB')\n",
    "\n",
    "plt.xlabel('value')\n",
    "plt.ylabel('density')\n",
    "plt.title('posterior distributions of the conversion rate')\n",
    "plt.legend()"
   ]
  },
  {
   "cell_type": "code",
   "execution_count": null,
   "metadata": {
    "collapsed": true
   },
   "outputs": [],
   "source": []
  }
 ],
 "metadata": {
  "kernelspec": {
   "display_name": "Python 3",
   "language": "python",
   "name": "python3"
  },
  "language_info": {
   "codemirror_mode": {
    "name": "ipython",
    "version": 3
   },
   "file_extension": ".py",
   "mimetype": "text/x-python",
   "name": "python",
   "nbconvert_exporter": "python",
   "pygments_lexer": "ipython3",
   "version": "3.6.3"
  }
 },
 "nbformat": 4,
 "nbformat_minor": 2
}
